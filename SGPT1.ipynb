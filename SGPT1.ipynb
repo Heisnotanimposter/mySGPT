{
  "nbformat": 4,
  "nbformat_minor": 0,
  "metadata": {
    "colab": {
      "provenance": []
    },
    "kernelspec": {
      "name": "python3",
      "display_name": "Python 3"
    },
    "language_info": {
      "name": "python"
    }
  },
  "cells": [
    {
      "cell_type": "code",
      "execution_count": null,
      "metadata": {
        "id": "TLArUZpaiGUM"
      },
      "outputs": [],
      "source": [
        "!pip install torch transformers\n"
      ]
    },
    {
      "cell_type": "code",
      "source": [
        "import torch\n",
        "from transformers import GPT2LMHeadModel, GPT2Tokenizer\n",
        "\n",
        "def load_model(model_name=\"gpt2\"):\n",
        "    \"\"\"\n",
        "    Loads a pre-trained model and tokenizer from Hugging Face's Transformers library.\n",
        "    Adjust `model_name` to use a different model size.\n",
        "    \"\"\"\n",
        "    tokenizer = GPT2Tokenizer.from_pretrained(model_name)\n",
        "    model = GPT2LMHeadModel.from_pretrained(model_name)\n",
        "    return model, tokenizer\n",
        "\n",
        "model, tokenizer = load_model(\"gpt2-medium\")  # Using \"gpt2-medium\" for demonstration; choose smaller variants for lightweight applications.\n"
      ],
      "metadata": {
        "id": "9N9boNiaiPtX"
      },
      "execution_count": null,
      "outputs": []
    },
    {
      "cell_type": "code",
      "source": [
        "def generate_text(prompt, model, tokenizer, max_length=50):\n",
        "    \"\"\"\n",
        "    Generates text completion for a given prompt.\n",
        "    \"\"\"\n",
        "    device = \"cuda\" if torch.cuda.is_available() else \"cpu\"\n",
        "    model.to(device)\n",
        "    input_ids = tokenizer.encode(prompt, return_tensors=\"pt\").to(device)\n",
        "    attention_mask = torch.ones(input_ids.shape, device=device)\n",
        "    output = model.generate(input_ids, attention_mask=attention_mask, max_length=max_length)\n",
        "\n",
        "    generated_text = tokenizer.decode(output[0], skip_special_tokens=True)\n",
        "    return generated_text\n",
        "\n",
        "# Example usage\n",
        "prompt = \"Hello guys It's me Flying Bread\"\n",
        "completion = generate_text(prompt, model, tokenizer)\n",
        "print(completion)\n"
      ],
      "metadata": {
        "id": "qh4GH2AEiP3t"
      },
      "execution_count": null,
      "outputs": []
    },
    {
      "cell_type": "code",
      "source": [],
      "metadata": {
        "id": "jtR0Gu43iQAz"
      },
      "execution_count": null,
      "outputs": []
    }
  ]
}